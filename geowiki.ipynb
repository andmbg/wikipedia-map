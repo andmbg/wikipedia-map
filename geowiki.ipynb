{
 "cells": [
  {
   "cell_type": "code",
   "execution_count": 125,
   "id": "53f487f3-e1ed-4aac-a748-f70d90ed4e09",
   "metadata": {},
   "outputs": [],
   "source": [
    "import json\n",
    "import requests\n",
    "import pandas as pd\n",
    "import plotly.express as px\n",
    "from dash import html, dcc\n",
    "from dash.dependencies import Input, Output\n",
    "from jupyter_dash import JupyterDash\n",
    "import numpy as np"
   ]
  },
  {
   "cell_type": "code",
   "execution_count": 7,
   "id": "5dadf9c6-7c53-44a2-be3b-545fd6bec5d4",
   "metadata": {},
   "outputs": [],
   "source": [
    "base_coord = (52.5162829, 13.3777240)"
   ]
  },
  {
   "cell_type": "markdown",
   "id": "e1631410-d6ca-484c-abfd-7d1430b9240a",
   "metadata": {},
   "source": [
    "Retrieve all German geolocated Wikipedia entries 1,000m around Brandenburg Gate, save as df with 1 page per row."
   ]
  },
  {
   "cell_type": "code",
   "execution_count": 8,
   "id": "7909efcb-ee82-467a-bf8a-37821331cd64",
   "metadata": {},
   "outputs": [
    {
     "name": "stdout",
     "output_type": "stream",
     "text": [
      "<Response [200]>\n",
      "Found 360 articles in this area.\n"
     ]
    },
    {
     "data": {
      "text/html": [
       "<div>\n",
       "<style scoped>\n",
       "    .dataframe tbody tr th:only-of-type {\n",
       "        vertical-align: middle;\n",
       "    }\n",
       "\n",
       "    .dataframe tbody tr th {\n",
       "        vertical-align: top;\n",
       "    }\n",
       "\n",
       "    .dataframe thead th {\n",
       "        text-align: right;\n",
       "    }\n",
       "</style>\n",
       "<table border=\"1\" class=\"dataframe\">\n",
       "  <thead>\n",
       "    <tr style=\"text-align: right;\">\n",
       "      <th></th>\n",
       "      <th>ns</th>\n",
       "      <th>title</th>\n",
       "      <th>lat</th>\n",
       "      <th>lon</th>\n",
       "      <th>dist</th>\n",
       "      <th>primary</th>\n",
       "    </tr>\n",
       "    <tr>\n",
       "      <th>pageid</th>\n",
       "      <th></th>\n",
       "      <th></th>\n",
       "      <th></th>\n",
       "      <th></th>\n",
       "      <th></th>\n",
       "      <th></th>\n",
       "    </tr>\n",
       "  </thead>\n",
       "  <tbody>\n",
       "    <tr>\n",
       "      <th>11830550</th>\n",
       "      <td>0</td>\n",
       "      <td>Berliner Siegesparade 1871</td>\n",
       "      <td>52.516389</td>\n",
       "      <td>13.377778</td>\n",
       "      <td>12.3</td>\n",
       "      <td>True</td>\n",
       "    </tr>\n",
       "    <tr>\n",
       "      <th>11349</th>\n",
       "      <td>0</td>\n",
       "      <td>Brandenburger Tor</td>\n",
       "      <td>52.516389</td>\n",
       "      <td>13.377778</td>\n",
       "      <td>12.3</td>\n",
       "      <td>True</td>\n",
       "    </tr>\n",
       "    <tr>\n",
       "      <th>10900841</th>\n",
       "      <td>0</td>\n",
       "      <td>Berliner Siegesparade 1945</td>\n",
       "      <td>52.516389</td>\n",
       "      <td>13.377778</td>\n",
       "      <td>12.3</td>\n",
       "      <td>True</td>\n",
       "    </tr>\n",
       "    <tr>\n",
       "      <th>613667</th>\n",
       "      <td>0</td>\n",
       "      <td>Radweg Berlin–Kopenhagen</td>\n",
       "      <td>52.516389</td>\n",
       "      <td>13.377778</td>\n",
       "      <td>12.3</td>\n",
       "      <td>True</td>\n",
       "    </tr>\n",
       "    <tr>\n",
       "      <th>1710722</th>\n",
       "      <td>0</td>\n",
       "      <td>Platz des 18. März</td>\n",
       "      <td>52.516250</td>\n",
       "      <td>13.377286</td>\n",
       "      <td>29.9</td>\n",
       "      <td>True</td>\n",
       "    </tr>\n",
       "  </tbody>\n",
       "</table>\n",
       "</div>"
      ],
      "text/plain": [
       "          ns                       title        lat        lon  dist  primary\n",
       "pageid                                                                       \n",
       "11830550   0  Berliner Siegesparade 1871  52.516389  13.377778  12.3     True\n",
       "11349      0           Brandenburger Tor  52.516389  13.377778  12.3     True\n",
       "10900841   0  Berliner Siegesparade 1945  52.516389  13.377778  12.3     True\n",
       "613667     0    Radweg Berlin–Kopenhagen  52.516389  13.377778  12.3     True\n",
       "1710722    0          Platz des 18. März  52.516250  13.377286  29.9     True"
      ]
     },
     "execution_count": 8,
     "metadata": {},
     "output_type": "execute_result"
    }
   ],
   "source": [
    "url = \"https://de.wikipedia.org/w/api.php\"\n",
    "\n",
    "params = {\n",
    "    \"action\": \"query\",\n",
    "    \"format\": \"json\",\n",
    "    \"list\": \"geosearch\",\n",
    "    \"formatversion\": \"2\",\n",
    "    \"gscoord\": \"|\".join(map(str, base_coord)),\n",
    "    \"gsradius\": \"1000\",\n",
    "    \"gslimit\": \"500\"\n",
    "}\n",
    "\n",
    "response = requests.get(url, params = params)\n",
    "print(response)\n",
    "response_dict = json.loads(response.text)\n",
    "n_results = len( response_dict[\"query\"][\"geosearch\"] )\n",
    "print(f\"Found {n_results} articles in this area.\")\n",
    "\n",
    "pages_df = pd.json_normalize(response_dict[\"query\"][\"geosearch\"])\n",
    "pages_df.set_index(\"pageid\", inplace=True)\n",
    "pages_df.head()"
   ]
  },
  {
   "cell_type": "markdown",
   "id": "c4e7dd34-3932-427a-ba2f-96461d28756d",
   "metadata": {},
   "source": [
    "Extract page IDs and forward them to a query of pageviews."
   ]
  },
  {
   "cell_type": "code",
   "execution_count": 9,
   "id": "641fb3c4-52d7-4de3-9bae-7768e9009896",
   "metadata": {},
   "outputs": [],
   "source": [
    "params = {\n",
    "    \"action\": \"query\",\n",
    "    \"format\": \"json\",\n",
    "    \"prop\": \"pageviews\",\n",
    "    \"pvipdays\": \"30\",\n",
    "    \"pageids\": \"\", # will add pageids next\n",
    "    \"formatversion\": \"2\"\n",
    "}\n",
    "\n",
    "# prepare page ids as a checklist to work off:\n",
    "page_ids = list(pages_df.index)\n",
    "\n",
    "# returns a df [pageid | views] with each row a page with id from params:\n",
    "def query_views_to_df(params):\n",
    "    response = requests.get(url, params = params)\n",
    "    response_dict = json.loads(response.text)\n",
    "    response_df = pd.json_normalize(response_dict[\"query\"][\"pages\"])\n",
    "    views = response_df.iloc[:,0:3]\n",
    "    views[\"views\"] = response_df.filter(regex=\"pageviews\").sum(axis=1)\n",
    "    views = views[[\"pageid\", \"views\"]]\n",
    "    views.set_index(\"pageid\", inplace=True)\n",
    "    return(views)\n",
    "\n",
    "# start with the first chunk:\n",
    "page_id_string = \"|\".join(map(str, page_ids[0:50]))\n",
    "\n",
    "# subtract these up to 50 ids from our check list:\n",
    "if len(page_ids) >= 50:\n",
    "    page_ids = page_ids[50:len(page_ids)]\n",
    "else:\n",
    "    page_ids = None\n",
    "\n",
    "# prepare params and query:\n",
    "params[\"pageids\"] = page_id_string\n",
    "page_views_df = query_views_to_df(params)\n",
    "\n",
    "# now, given the df structure in page_views_df, proceed to end of page id list:\n",
    "while page_ids:\n",
    "    if len(page_ids) >= 50:\n",
    "        params[\"pageids\"] = \"|\".join(map(str, page_ids[0:50]))\n",
    "        page_ids = page_ids[50:len(page_ids)]\n",
    "    else:\n",
    "        params[\"pageids\"] = \"|\".join(map(str, page_ids))\n",
    "        page_ids = None\n",
    "    chunk_df = query_views_to_df(params)\n",
    "    page_views_df = pd.concat( [page_views_df, chunk_df], axis=0)"
   ]
  },
  {
   "cell_type": "code",
   "execution_count": 129,
   "id": "867154c6-7e95-4a52-a101-4b6256984b12",
   "metadata": {},
   "outputs": [],
   "source": [
    "df = pages_df.join(page_views_df)\n",
    "df.sort_values(\"views\", ascending=False, inplace=True)\n",
    "max_views = max(df.views)"
   ]
  },
  {
   "cell_type": "code",
   "execution_count": 190,
   "id": "5dd2bb04-62c6-460f-a254-85cd641ee955",
   "metadata": {
    "collapsed": true,
    "jupyter": {
     "outputs_hidden": true
    },
    "tags": []
   },
   "outputs": [
    {
     "name": "stdout",
     "output_type": "stream",
     "text": [
      "Help on function histogram in module numpy:\n",
      "\n",
      "histogram(a, bins=10, range=None, normed=None, weights=None, density=None)\n",
      "    Compute the histogram of a dataset.\n",
      "    \n",
      "    Parameters\n",
      "    ----------\n",
      "    a : array_like\n",
      "        Input data. The histogram is computed over the flattened array.\n",
      "    bins : int or sequence of scalars or str, optional\n",
      "        If `bins` is an int, it defines the number of equal-width\n",
      "        bins in the given range (10, by default). If `bins` is a\n",
      "        sequence, it defines a monotonically increasing array of bin edges,\n",
      "        including the rightmost edge, allowing for non-uniform bin widths.\n",
      "    \n",
      "        .. versionadded:: 1.11.0\n",
      "    \n",
      "        If `bins` is a string, it defines the method used to calculate the\n",
      "        optimal bin width, as defined by `histogram_bin_edges`.\n",
      "    \n",
      "    range : (float, float), optional\n",
      "        The lower and upper range of the bins.  If not provided, range\n",
      "        is simply ``(a.min(), a.max())``.  Values outside the range are\n",
      "        ignored. The first element of the range must be less than or\n",
      "        equal to the second. `range` affects the automatic bin\n",
      "        computation as well. While bin width is computed to be optimal\n",
      "        based on the actual data within `range`, the bin count will fill\n",
      "        the entire range including portions containing no data.\n",
      "    normed : bool, optional\n",
      "    \n",
      "        .. deprecated:: 1.6.0\n",
      "    \n",
      "        This is equivalent to the `density` argument, but produces incorrect\n",
      "        results for unequal bin widths. It should not be used.\n",
      "    \n",
      "        .. versionchanged:: 1.15.0\n",
      "            DeprecationWarnings are actually emitted.\n",
      "    \n",
      "    weights : array_like, optional\n",
      "        An array of weights, of the same shape as `a`.  Each value in\n",
      "        `a` only contributes its associated weight towards the bin count\n",
      "        (instead of 1). If `density` is True, the weights are\n",
      "        normalized, so that the integral of the density over the range\n",
      "        remains 1.\n",
      "    density : bool, optional\n",
      "        If ``False``, the result will contain the number of samples in\n",
      "        each bin. If ``True``, the result is the value of the\n",
      "        probability *density* function at the bin, normalized such that\n",
      "        the *integral* over the range is 1. Note that the sum of the\n",
      "        histogram values will not be equal to 1 unless bins of unity\n",
      "        width are chosen; it is not a probability *mass* function.\n",
      "    \n",
      "        Overrides the ``normed`` keyword if given.\n",
      "    \n",
      "    Returns\n",
      "    -------\n",
      "    hist : array\n",
      "        The values of the histogram. See `density` and `weights` for a\n",
      "        description of the possible semantics.\n",
      "    bin_edges : array of dtype float\n",
      "        Return the bin edges ``(length(hist)+1)``.\n",
      "    \n",
      "    \n",
      "    See Also\n",
      "    --------\n",
      "    histogramdd, bincount, searchsorted, digitize, histogram_bin_edges\n",
      "    \n",
      "    Notes\n",
      "    -----\n",
      "    All but the last (righthand-most) bin is half-open.  In other words,\n",
      "    if `bins` is::\n",
      "    \n",
      "      [1, 2, 3, 4]\n",
      "    \n",
      "    then the first bin is ``[1, 2)`` (including 1, but excluding 2) and\n",
      "    the second ``[2, 3)``.  The last bin, however, is ``[3, 4]``, which\n",
      "    *includes* 4.\n",
      "    \n",
      "    \n",
      "    Examples\n",
      "    --------\n",
      "    >>> np.histogram([1, 2, 1], bins=[0, 1, 2, 3])\n",
      "    (array([0, 2, 1]), array([0, 1, 2, 3]))\n",
      "    >>> np.histogram(np.arange(4), bins=np.arange(5), density=True)\n",
      "    (array([0.25, 0.25, 0.25, 0.25]), array([0, 1, 2, 3, 4]))\n",
      "    >>> np.histogram([[1, 2, 1], [1, 0, 1]], bins=[0,1,2,3])\n",
      "    (array([1, 4, 1]), array([0, 1, 2, 3]))\n",
      "    \n",
      "    >>> a = np.arange(5)\n",
      "    >>> hist, bin_edges = np.histogram(a, density=True)\n",
      "    >>> hist\n",
      "    array([0.5, 0. , 0.5, 0. , 0. , 0.5, 0. , 0.5, 0. , 0.5])\n",
      "    >>> hist.sum()\n",
      "    2.4999999999999996\n",
      "    >>> np.sum(hist * np.diff(bin_edges))\n",
      "    1.0\n",
      "    \n",
      "    .. versionadded:: 1.11.0\n",
      "    \n",
      "    Automated Bin Selection Methods example, using 2 peak random data\n",
      "    with 2000 points:\n",
      "    \n",
      "    >>> import matplotlib.pyplot as plt\n",
      "    >>> rng = np.random.RandomState(10)  # deterministic random data\n",
      "    >>> a = np.hstack((rng.normal(size=1000),\n",
      "    ...                rng.normal(loc=5, scale=2, size=1000)))\n",
      "    >>> _ = plt.hist(a, bins='auto')  # arguments are passed to np.histogram\n",
      "    >>> plt.title(\"Histogram with 'auto' bins\")\n",
      "    Text(0.5, 1.0, \"Histogram with 'auto' bins\")\n",
      "    >>> plt.show()\n",
      "\n"
     ]
    }
   ],
   "source": [
    "help(np.histogram)"
   ]
  },
  {
   "cell_type": "code",
   "execution_count": 193,
   "id": "21abcf4e-89d9-4927-bf2d-d56bdfdd3567",
   "metadata": {},
   "outputs": [
    {
     "name": "stdout",
     "output_type": "stream",
     "text": [
      "[ 2  0  0  3  6  7  7 19 15 20 18 25 31 24 32 17 27 24 17 15 15  6 14  4\n",
      "  6  1  1  2  1  1]\n",
      "[ 1.09861229  1.41028333  1.72195438  2.03362542  2.34529646  2.65696751\n",
      "  2.96863855  3.28030959  3.59198064  3.90365168  4.21532272  4.52699377\n",
      "  4.83866481  5.15033585  5.4620069   5.77367794  6.08534898  6.39702003\n",
      "  6.70869107  7.02036211  7.33203315  7.6437042   7.95537524  8.26704628\n",
      "  8.57871733  8.89038837  9.20205941  9.51373046  9.8254015  10.13707254\n",
      " 10.44874359]\n"
     ]
    },
    {
     "data": {
      "application/vnd.plotly.v1+json": {
       "config": {
        "plotlyServerURL": "https://plot.ly"
       },
       "data": [
        {
         "alignmentgroup": "True",
         "bingroup": "x",
         "hovertemplate": "Artikel exp(%{x}) Mal besucht<br>%{y} Orte<extra></extra>",
         "legendgroup": "",
         "marker": {
          "color": "rgba(255,150,180, .3)",
          "pattern": {
           "shape": ""
          }
         },
         "name": "",
         "nbinsx": 30,
         "offsetgroup": "",
         "orientation": "v",
         "showlegend": false,
         "type": "histogram",
         "x": [
          10.448743588106625,
          9.974458466406707,
          9.558458813231795,
          9.536617962187327,
          9.373564053078196,
          8.941283763647567,
          8.841158975945264,
          8.80792062205398,
          8.802221746402456,
          8.74878098951311,
          8.614138397472717,
          8.613956859848546,
          8.569406062863171,
          8.524367395164237,
          8.476371196895983,
          8.297294370266917,
          8.24564690087386,
          8.224163512637862,
          8.193123721512068,
          8.189244525735901,
          8.168202930236053,
          8.164510268747042,
          8.114324709155339,
          8.10711747075039,
          8.092851027538384,
          8.056743774975313,
          8.038189179973203,
          8.014996894348302,
          7.993282328101591,
          7.95892649305011,
          7.947678571301568,
          7.7752758464868625,
          7.749753406274437,
          7.747164966520335,
          7.685243607975833,
          7.6783263565068856,
          7.613818684808629,
          7.598399329323964,
          7.596894438144544,
          7.580189417944541,
          7.580189417944541,
          7.551186867296149,
          7.5251007461258,
          7.470224135899966,
          7.45876269238096,
          7.399398083331354,
          7.397561535524052,
          7.396335293800808,
          7.3632795869630385,
          7.358830898342354,
          7.3537223303996315,
          7.269616749608169,
          7.252762418053187,
          7.212294468500341,
          7.2115567333138015,
          7.1693500166706,
          7.152268856032539,
          7.138073034044347,
          7.095893221097532,
          7.069874128458572,
          7.057036981697891,
          7.045776576879511,
          7.040536390215956,
          7.033506484287697,
          7.024649030453636,
          7.022868086082641,
          7.011213987350367,
          7.00033446027523,
          7.00033446027523,
          6.990256500493881,
          6.988413181999592,
          6.96979066990159,
          6.962243464266207,
          6.9584483932976555,
          6.8966943316227125,
          6.787844982309579,
          6.761572768804055,
          6.75343791859778,
          6.747586526829315,
          6.742880635791903,
          6.733401891837359,
          6.717804695023691,
          6.714170529909472,
          6.698268054115413,
          6.679599185844383,
          6.679599185844383,
          6.60934924316738,
          6.595780513961311,
          6.587550014824796,
          6.580639137284949,
          6.577861357721047,
          6.5722825426940075,
          6.551080335043404,
          6.5337888379333435,
          6.519147287940395,
          6.516193076042964,
          6.501289670540389,
          6.499787040655854,
          6.4967749901858625,
          6.495265555937008,
          6.495265555937008,
          6.486160788944089,
          6.461468176353717,
          6.456769655572163,
          6.453624998892692,
          6.450470422144176,
          6.444131256700441,
          6.38856140554563,
          6.3784261836515865,
          6.363028103540465,
          6.354370040797351,
          6.343880434126331,
          6.335054251498059,
          6.333279628139691,
          6.315358001522335,
          6.313548046277095,
          6.298949246855942,
          6.284134161070802,
          6.267200548541362,
          6.244166900663736,
          6.230481447578482,
          6.230481447578482,
          6.20050917404269,
          6.198478716492308,
          6.1779441140506,
          6.16541785423142,
          6.161207321695077,
          6.152732694704104,
          6.139884552226255,
          6.129050210060545,
          6.1092475827643655,
          6.104793232414985,
          6.104793232414985,
          6.104793232414985,
          6.077642243349034,
          6.07073772800249,
          6.07073772800249,
          6.063785208687608,
          6.0330862217988015,
          5.998936561946683,
          5.993961427306569,
          5.986452005284438,
          5.978885764901122,
          5.978885764901122,
          5.968707559985366,
          5.961005339623274,
          5.953243334287785,
          5.8971538676367405,
          5.883322388488279,
          5.802118375377063,
          5.783825182329737,
          5.7430031878094825,
          5.733341276897746,
          5.730099782973574,
          5.726847747587197,
          5.69035945432406,
          5.69035945432406,
          5.683579767338681,
          5.676753802268282,
          5.655991810819852,
          5.648974238161206,
          5.648974238161206,
          5.645446897643238,
          5.631211781821365,
          5.627621113690637,
          5.616771097666572,
          5.605802066295998,
          5.58724865840025,
          5.583496308781699,
          5.568344503761097,
          5.564520407322694,
          5.564520407322694,
          5.54907608489522,
          5.53338948872752,
          5.521460917862246,
          5.521460917862246,
          5.517452896464707,
          5.5134287461649825,
          5.5093883366279774,
          5.501258210544727,
          5.472270673671475,
          5.472270673671475,
          5.4638318050256105,
          5.459585514144159,
          5.459585514144159,
          5.442417710521793,
          5.43372200355424,
          5.429345628954441,
          5.402677381872279,
          5.3981627015177525,
          5.3706380281276624,
          5.356586274672012,
          5.351858133476067,
          5.351858133476067,
          5.3230099791384085,
          5.303304908059076,
          5.278114659230517,
          5.2574953720277815,
          5.25227342804663,
          5.241747015059643,
          5.236441962829949,
          5.214935757608986,
          5.214935757608986,
          5.198497031265826,
          5.19295685089021,
          5.1647859739235145,
          5.1647859739235145,
          5.147494476813453,
          5.1298987149230735,
          5.111987788356544,
          5.10594547390058,
          5.099866427824199,
          5.093750200806762,
          5.081404364984463,
          5.081404364984463,
          5.081404364984463,
          5.062595033026967,
          5.043425116919247,
          5.043425116919247,
          5.0369526024136295,
          5.0369526024136295,
          5.0369526024136295,
          5.030437921392435,
          5.0238805208462765,
          5.017279836814924,
          5.0106352940962555,
          5.003946305945459,
          5.003946305945459,
          4.990432586778736,
          4.983606621708336,
          4.983606621708336,
          4.9344739331306915,
          4.912654885736052,
          4.90527477843843,
          4.897839799950911,
          4.890349128221754,
          4.875197323201151,
          4.844187086458591,
          4.820281565605037,
          4.795790545596741,
          4.762173934797756,
          4.727387818712341,
          4.709530201312334,
          4.700480365792417,
          4.700480365792417,
          4.6913478822291435,
          4.6913478822291435,
          4.68213122712422,
          4.68213122712422,
          4.672828834461906,
          4.663439094112067,
          4.6443908991413725,
          4.6443908991413725,
          4.624972813284271,
          4.605170185988092,
          4.59511985013459,
          4.574710978503383,
          4.574710978503383,
          4.564348191467836,
          4.564348191467836,
          4.564348191467836,
          4.553876891600541,
          4.553876891600541,
          4.5217885770490405,
          4.477336814478207,
          4.454347296253507,
          4.442651256490317,
          4.418840607796598,
          4.406719247264253,
          4.394449154672439,
          4.382026634673881,
          4.3694478524670215,
          4.356708826689592,
          4.343805421853684,
          4.343805421853684,
          4.30406509320417,
          4.290459441148391,
          4.2626798770413155,
          4.248495242049359,
          4.219507705176107,
          4.219507705176107,
          4.204692619390966,
          4.189654742026425,
          4.174387269895637,
          4.174387269895637,
          4.1588830833596715,
          4.1588830833596715,
          4.143134726391533,
          4.127134385045092,
          4.127134385045092,
          4.0943445622221,
          4.04305126783455,
          4.04305126783455,
          4.04305126783455,
          4.04305126783455,
          3.970291913552122,
          3.9512437185814275,
          3.9512437185814275,
          3.9512437185814275,
          3.9318256327243257,
          3.912023005428146,
          3.8918202981106265,
          3.871201010907891,
          3.871201010907891,
          3.8501476017100584,
          3.8066624897703196,
          3.784189633918261,
          3.7612001156935624,
          3.7612001156935624,
          3.7376696182833684,
          3.713572066704308,
          3.713572066704308,
          3.713572066704308,
          3.6635616461296463,
          3.6635616461296463,
          3.6635616461296463,
          3.58351893845611,
          3.5553480614894135,
          3.5553480614894135,
          3.4965075614664802,
          3.4965075614664802,
          3.4657359027997265,
          3.4657359027997265,
          3.4339872044851463,
          3.367295829986474,
          3.367295829986474,
          3.367295829986474,
          3.367295829986474,
          3.367295829986474,
          3.332204510175204,
          3.332204510175204,
          3.295836866004329,
          3.295836866004329,
          3.295836866004329,
          3.295836866004329,
          3.2188758248682006,
          3.2188758248682006,
          3.2188758248682006,
          3.1354942159291497,
          3.1354942159291497,
          3.1354942159291497,
          2.995732273553991,
          2.9444389791664403,
          2.9444389791664403,
          2.8903717578961645,
          2.8903717578961645,
          2.833213344056216,
          2.833213344056216,
          2.772588722239781,
          2.6390573296152584,
          2.5649493574615367,
          2.5649493574615367,
          2.4849066497880004,
          2.3978952727983707,
          2.3978952727983707,
          2.1972245773362196,
          2.1972245773362196,
          2.1972245773362196,
          1.3862943611198906,
          1.0986122886681098
         ],
         "xaxis": "x",
         "yaxis": "y"
        }
       ],
       "layout": {
        "barmode": "relative",
        "height": 200,
        "legend": {
         "tracegroupgap": 0
        },
        "margin": {
         "b": 0,
         "l": 0,
         "r": 0,
         "t": 0
        },
        "template": {
         "data": {
          "bar": [
           {
            "error_x": {
             "color": "#f2f5fa"
            },
            "error_y": {
             "color": "#f2f5fa"
            },
            "marker": {
             "line": {
              "color": "rgb(17,17,17)",
              "width": 0.5
             },
             "pattern": {
              "fillmode": "overlay",
              "size": 10,
              "solidity": 0.2
             }
            },
            "type": "bar"
           }
          ],
          "barpolar": [
           {
            "marker": {
             "line": {
              "color": "rgb(17,17,17)",
              "width": 0.5
             },
             "pattern": {
              "fillmode": "overlay",
              "size": 10,
              "solidity": 0.2
             }
            },
            "type": "barpolar"
           }
          ],
          "carpet": [
           {
            "aaxis": {
             "endlinecolor": "#A2B1C6",
             "gridcolor": "#506784",
             "linecolor": "#506784",
             "minorgridcolor": "#506784",
             "startlinecolor": "#A2B1C6"
            },
            "baxis": {
             "endlinecolor": "#A2B1C6",
             "gridcolor": "#506784",
             "linecolor": "#506784",
             "minorgridcolor": "#506784",
             "startlinecolor": "#A2B1C6"
            },
            "type": "carpet"
           }
          ],
          "choropleth": [
           {
            "colorbar": {
             "outlinewidth": 0,
             "ticks": ""
            },
            "type": "choropleth"
           }
          ],
          "contour": [
           {
            "colorbar": {
             "outlinewidth": 0,
             "ticks": ""
            },
            "colorscale": [
             [
              0,
              "#0d0887"
             ],
             [
              0.1111111111111111,
              "#46039f"
             ],
             [
              0.2222222222222222,
              "#7201a8"
             ],
             [
              0.3333333333333333,
              "#9c179e"
             ],
             [
              0.4444444444444444,
              "#bd3786"
             ],
             [
              0.5555555555555556,
              "#d8576b"
             ],
             [
              0.6666666666666666,
              "#ed7953"
             ],
             [
              0.7777777777777778,
              "#fb9f3a"
             ],
             [
              0.8888888888888888,
              "#fdca26"
             ],
             [
              1,
              "#f0f921"
             ]
            ],
            "type": "contour"
           }
          ],
          "contourcarpet": [
           {
            "colorbar": {
             "outlinewidth": 0,
             "ticks": ""
            },
            "type": "contourcarpet"
           }
          ],
          "heatmap": [
           {
            "colorbar": {
             "outlinewidth": 0,
             "ticks": ""
            },
            "colorscale": [
             [
              0,
              "#0d0887"
             ],
             [
              0.1111111111111111,
              "#46039f"
             ],
             [
              0.2222222222222222,
              "#7201a8"
             ],
             [
              0.3333333333333333,
              "#9c179e"
             ],
             [
              0.4444444444444444,
              "#bd3786"
             ],
             [
              0.5555555555555556,
              "#d8576b"
             ],
             [
              0.6666666666666666,
              "#ed7953"
             ],
             [
              0.7777777777777778,
              "#fb9f3a"
             ],
             [
              0.8888888888888888,
              "#fdca26"
             ],
             [
              1,
              "#f0f921"
             ]
            ],
            "type": "heatmap"
           }
          ],
          "heatmapgl": [
           {
            "colorbar": {
             "outlinewidth": 0,
             "ticks": ""
            },
            "colorscale": [
             [
              0,
              "#0d0887"
             ],
             [
              0.1111111111111111,
              "#46039f"
             ],
             [
              0.2222222222222222,
              "#7201a8"
             ],
             [
              0.3333333333333333,
              "#9c179e"
             ],
             [
              0.4444444444444444,
              "#bd3786"
             ],
             [
              0.5555555555555556,
              "#d8576b"
             ],
             [
              0.6666666666666666,
              "#ed7953"
             ],
             [
              0.7777777777777778,
              "#fb9f3a"
             ],
             [
              0.8888888888888888,
              "#fdca26"
             ],
             [
              1,
              "#f0f921"
             ]
            ],
            "type": "heatmapgl"
           }
          ],
          "histogram": [
           {
            "marker": {
             "pattern": {
              "fillmode": "overlay",
              "size": 10,
              "solidity": 0.2
             }
            },
            "type": "histogram"
           }
          ],
          "histogram2d": [
           {
            "colorbar": {
             "outlinewidth": 0,
             "ticks": ""
            },
            "colorscale": [
             [
              0,
              "#0d0887"
             ],
             [
              0.1111111111111111,
              "#46039f"
             ],
             [
              0.2222222222222222,
              "#7201a8"
             ],
             [
              0.3333333333333333,
              "#9c179e"
             ],
             [
              0.4444444444444444,
              "#bd3786"
             ],
             [
              0.5555555555555556,
              "#d8576b"
             ],
             [
              0.6666666666666666,
              "#ed7953"
             ],
             [
              0.7777777777777778,
              "#fb9f3a"
             ],
             [
              0.8888888888888888,
              "#fdca26"
             ],
             [
              1,
              "#f0f921"
             ]
            ],
            "type": "histogram2d"
           }
          ],
          "histogram2dcontour": [
           {
            "colorbar": {
             "outlinewidth": 0,
             "ticks": ""
            },
            "colorscale": [
             [
              0,
              "#0d0887"
             ],
             [
              0.1111111111111111,
              "#46039f"
             ],
             [
              0.2222222222222222,
              "#7201a8"
             ],
             [
              0.3333333333333333,
              "#9c179e"
             ],
             [
              0.4444444444444444,
              "#bd3786"
             ],
             [
              0.5555555555555556,
              "#d8576b"
             ],
             [
              0.6666666666666666,
              "#ed7953"
             ],
             [
              0.7777777777777778,
              "#fb9f3a"
             ],
             [
              0.8888888888888888,
              "#fdca26"
             ],
             [
              1,
              "#f0f921"
             ]
            ],
            "type": "histogram2dcontour"
           }
          ],
          "mesh3d": [
           {
            "colorbar": {
             "outlinewidth": 0,
             "ticks": ""
            },
            "type": "mesh3d"
           }
          ],
          "parcoords": [
           {
            "line": {
             "colorbar": {
              "outlinewidth": 0,
              "ticks": ""
             }
            },
            "type": "parcoords"
           }
          ],
          "pie": [
           {
            "automargin": true,
            "type": "pie"
           }
          ],
          "scatter": [
           {
            "marker": {
             "line": {
              "color": "#283442"
             }
            },
            "type": "scatter"
           }
          ],
          "scatter3d": [
           {
            "line": {
             "colorbar": {
              "outlinewidth": 0,
              "ticks": ""
             }
            },
            "marker": {
             "colorbar": {
              "outlinewidth": 0,
              "ticks": ""
             }
            },
            "type": "scatter3d"
           }
          ],
          "scattercarpet": [
           {
            "marker": {
             "colorbar": {
              "outlinewidth": 0,
              "ticks": ""
             }
            },
            "type": "scattercarpet"
           }
          ],
          "scattergeo": [
           {
            "marker": {
             "colorbar": {
              "outlinewidth": 0,
              "ticks": ""
             }
            },
            "type": "scattergeo"
           }
          ],
          "scattergl": [
           {
            "marker": {
             "line": {
              "color": "#283442"
             }
            },
            "type": "scattergl"
           }
          ],
          "scattermapbox": [
           {
            "marker": {
             "colorbar": {
              "outlinewidth": 0,
              "ticks": ""
             }
            },
            "type": "scattermapbox"
           }
          ],
          "scatterpolar": [
           {
            "marker": {
             "colorbar": {
              "outlinewidth": 0,
              "ticks": ""
             }
            },
            "type": "scatterpolar"
           }
          ],
          "scatterpolargl": [
           {
            "marker": {
             "colorbar": {
              "outlinewidth": 0,
              "ticks": ""
             }
            },
            "type": "scatterpolargl"
           }
          ],
          "scatterternary": [
           {
            "marker": {
             "colorbar": {
              "outlinewidth": 0,
              "ticks": ""
             }
            },
            "type": "scatterternary"
           }
          ],
          "surface": [
           {
            "colorbar": {
             "outlinewidth": 0,
             "ticks": ""
            },
            "colorscale": [
             [
              0,
              "#0d0887"
             ],
             [
              0.1111111111111111,
              "#46039f"
             ],
             [
              0.2222222222222222,
              "#7201a8"
             ],
             [
              0.3333333333333333,
              "#9c179e"
             ],
             [
              0.4444444444444444,
              "#bd3786"
             ],
             [
              0.5555555555555556,
              "#d8576b"
             ],
             [
              0.6666666666666666,
              "#ed7953"
             ],
             [
              0.7777777777777778,
              "#fb9f3a"
             ],
             [
              0.8888888888888888,
              "#fdca26"
             ],
             [
              1,
              "#f0f921"
             ]
            ],
            "type": "surface"
           }
          ],
          "table": [
           {
            "cells": {
             "fill": {
              "color": "#506784"
             },
             "line": {
              "color": "rgb(17,17,17)"
             }
            },
            "header": {
             "fill": {
              "color": "#2a3f5f"
             },
             "line": {
              "color": "rgb(17,17,17)"
             }
            },
            "type": "table"
           }
          ]
         },
         "layout": {
          "annotationdefaults": {
           "arrowcolor": "#f2f5fa",
           "arrowhead": 0,
           "arrowwidth": 1
          },
          "autotypenumbers": "strict",
          "coloraxis": {
           "colorbar": {
            "outlinewidth": 0,
            "ticks": ""
           }
          },
          "colorscale": {
           "diverging": [
            [
             0,
             "#8e0152"
            ],
            [
             0.1,
             "#c51b7d"
            ],
            [
             0.2,
             "#de77ae"
            ],
            [
             0.3,
             "#f1b6da"
            ],
            [
             0.4,
             "#fde0ef"
            ],
            [
             0.5,
             "#f7f7f7"
            ],
            [
             0.6,
             "#e6f5d0"
            ],
            [
             0.7,
             "#b8e186"
            ],
            [
             0.8,
             "#7fbc41"
            ],
            [
             0.9,
             "#4d9221"
            ],
            [
             1,
             "#276419"
            ]
           ],
           "sequential": [
            [
             0,
             "#0d0887"
            ],
            [
             0.1111111111111111,
             "#46039f"
            ],
            [
             0.2222222222222222,
             "#7201a8"
            ],
            [
             0.3333333333333333,
             "#9c179e"
            ],
            [
             0.4444444444444444,
             "#bd3786"
            ],
            [
             0.5555555555555556,
             "#d8576b"
            ],
            [
             0.6666666666666666,
             "#ed7953"
            ],
            [
             0.7777777777777778,
             "#fb9f3a"
            ],
            [
             0.8888888888888888,
             "#fdca26"
            ],
            [
             1,
             "#f0f921"
            ]
           ],
           "sequentialminus": [
            [
             0,
             "#0d0887"
            ],
            [
             0.1111111111111111,
             "#46039f"
            ],
            [
             0.2222222222222222,
             "#7201a8"
            ],
            [
             0.3333333333333333,
             "#9c179e"
            ],
            [
             0.4444444444444444,
             "#bd3786"
            ],
            [
             0.5555555555555556,
             "#d8576b"
            ],
            [
             0.6666666666666666,
             "#ed7953"
            ],
            [
             0.7777777777777778,
             "#fb9f3a"
            ],
            [
             0.8888888888888888,
             "#fdca26"
            ],
            [
             1,
             "#f0f921"
            ]
           ]
          },
          "colorway": [
           "#636efa",
           "#EF553B",
           "#00cc96",
           "#ab63fa",
           "#FFA15A",
           "#19d3f3",
           "#FF6692",
           "#B6E880",
           "#FF97FF",
           "#FECB52"
          ],
          "font": {
           "color": "#f2f5fa"
          },
          "geo": {
           "bgcolor": "rgb(17,17,17)",
           "lakecolor": "rgb(17,17,17)",
           "landcolor": "rgb(17,17,17)",
           "showlakes": true,
           "showland": true,
           "subunitcolor": "#506784"
          },
          "hoverlabel": {
           "align": "left"
          },
          "hovermode": "closest",
          "mapbox": {
           "style": "dark"
          },
          "paper_bgcolor": "rgb(17,17,17)",
          "plot_bgcolor": "rgb(17,17,17)",
          "polar": {
           "angularaxis": {
            "gridcolor": "#506784",
            "linecolor": "#506784",
            "ticks": ""
           },
           "bgcolor": "rgb(17,17,17)",
           "radialaxis": {
            "gridcolor": "#506784",
            "linecolor": "#506784",
            "ticks": ""
           }
          },
          "scene": {
           "xaxis": {
            "backgroundcolor": "rgb(17,17,17)",
            "gridcolor": "#506784",
            "gridwidth": 2,
            "linecolor": "#506784",
            "showbackground": true,
            "ticks": "",
            "zerolinecolor": "#C8D4E3"
           },
           "yaxis": {
            "backgroundcolor": "rgb(17,17,17)",
            "gridcolor": "#506784",
            "gridwidth": 2,
            "linecolor": "#506784",
            "showbackground": true,
            "ticks": "",
            "zerolinecolor": "#C8D4E3"
           },
           "zaxis": {
            "backgroundcolor": "rgb(17,17,17)",
            "gridcolor": "#506784",
            "gridwidth": 2,
            "linecolor": "#506784",
            "showbackground": true,
            "ticks": "",
            "zerolinecolor": "#C8D4E3"
           }
          },
          "shapedefaults": {
           "line": {
            "color": "#f2f5fa"
           }
          },
          "sliderdefaults": {
           "bgcolor": "#C8D4E3",
           "bordercolor": "rgb(17,17,17)",
           "borderwidth": 1,
           "tickwidth": 0
          },
          "ternary": {
           "aaxis": {
            "gridcolor": "#506784",
            "linecolor": "#506784",
            "ticks": ""
           },
           "baxis": {
            "gridcolor": "#506784",
            "linecolor": "#506784",
            "ticks": ""
           },
           "bgcolor": "rgb(17,17,17)",
           "caxis": {
            "gridcolor": "#506784",
            "linecolor": "#506784",
            "ticks": ""
           }
          },
          "title": {
           "x": 0.05
          },
          "updatemenudefaults": {
           "bgcolor": "#506784",
           "borderwidth": 0
          },
          "xaxis": {
           "automargin": true,
           "gridcolor": "#283442",
           "linecolor": "#506784",
           "ticks": "",
           "title": {
            "standoff": 15
           },
           "zerolinecolor": "#283442",
           "zerolinewidth": 2
          },
          "yaxis": {
           "automargin": true,
           "gridcolor": "#283442",
           "linecolor": "#506784",
           "ticks": "",
           "title": {
            "standoff": 15
           },
           "zerolinecolor": "#283442",
           "zerolinewidth": 2
          }
         }
        },
        "width": 200,
        "xaxis": {
         "anchor": "y",
         "autorange": true,
         "domain": [
          0,
          1
         ],
         "range": [
          1,
          10.5
         ],
         "tickvals": [],
         "title": {},
         "type": "linear"
        },
        "yaxis": {
         "anchor": "x",
         "autorange": true,
         "domain": [
          0,
          1
         ],
         "range": [
          0,
          50.526315789473685
         ],
         "showgrid": false,
         "tickvals": [],
         "title": {}
        }
       }
      },
      "image/png": "[encoded data removed]",
      "text/html": [
       "<div>                            <div id=\"20709cbe-46e6-4d0d-94b0-8bf27e09e9c3\" class=\"plotly-graph-div\" style=\"height:200px; width:200px;\"></div>            <script type=\"text/javascript\">                require([\"plotly\"], function(Plotly) {                    window.PLOTLYENV=window.PLOTLYENV || {};                                    if (document.getElementById(\"20709cbe-46e6-4d0d-94b0-8bf27e09e9c3\")) {                    Plotly.newPlot(                        \"20709cbe-46e6-4d0d-94b0-8bf27e09e9c3\",                        [{\"alignmentgroup\":\"True\",\"bingroup\":\"x\",\"hovertemplate\":\"Artikel exp(%{x}) Mal besucht<br>%{y} Orte<extra></extra>\",\"legendgroup\":\"\",\"marker\":{\"color\":\"rgba(255,150,180, .3)\",\"pattern\":{\"shape\":\"\"}},\"name\":\"\",\"nbinsx\":30,\"offsetgroup\":\"\",\"orientation\":\"v\",\"showlegend\":false,\"x\":[10.448743588106625,9.974458466406707,9.558458813231795,9.536617962187327,9.373564053078196,8.941283763647567,8.841158975945264,8.80792062205398,8.802221746402456,8.74878098951311,8.614138397472717,8.613956859848546,8.569406062863171,8.524367395164237,8.476371196895983,8.297294370266917,8.24564690087386,8.224163512637862,8.193123721512068,8.189244525735901,8.168202930236053,8.164510268747042,8.114324709155339,8.10711747075039,8.092851027538384,8.056743774975313,8.038189179973203,8.014996894348302,7.993282328101591,7.95892649305011,7.947678571301568,7.7752758464868625,7.749753406274437,7.747164966520335,7.685243607975833,7.6783263565068856,7.613818684808629,7.598399329323964,7.596894438144544,7.580189417944541,7.580189417944541,7.551186867296149,7.5251007461258,7.470224135899966,7.45876269238096,7.399398083331354,7.397561535524052,7.396335293800808,7.3632795869630385,7.358830898342354,7.3537223303996315,7.269616749608169,7.252762418053187,7.212294468500341,7.2115567333138015,7.1693500166706,7.152268856032539,7.138073034044347,7.095893221097532,7.069874128458572,7.057036981697891,7.045776576879511,7.040536390215956,7.033506484287697,7.024649030453636,7.022868086082641,7.011213987350367,7.00033446027523,7.00033446027523,6.990256500493881,6.988413181999592,6.96979066990159,6.962243464266207,6.9584483932976555,6.8966943316227125,6.787844982309579,6.761572768804055,6.75343791859778,6.747586526829315,6.742880635791903,6.733401891837359,6.717804695023691,6.714170529909472,6.698268054115413,6.679599185844383,6.679599185844383,6.60934924316738,6.595780513961311,6.587550014824796,6.580639137284949,6.577861357721047,6.5722825426940075,6.551080335043404,6.5337888379333435,6.519147287940395,6.516193076042964,6.501289670540389,6.499787040655854,6.4967749901858625,6.495265555937008,6.495265555937008,6.486160788944089,6.461468176353717,6.456769655572163,6.453624998892692,6.450470422144176,6.444131256700441,6.38856140554563,6.3784261836515865,6.363028103540465,6.354370040797351,6.343880434126331,6.335054251498059,6.333279628139691,6.315358001522335,6.313548046277095,6.298949246855942,6.284134161070802,6.267200548541362,6.244166900663736,6.230481447578482,6.230481447578482,6.20050917404269,6.198478716492308,6.1779441140506,6.16541785423142,6.161207321695077,6.152732694704104,6.139884552226255,6.129050210060545,6.1092475827643655,6.104793232414985,6.104793232414985,6.104793232414985,6.077642243349034,6.07073772800249,6.07073772800249,6.063785208687608,6.0330862217988015,5.998936561946683,5.993961427306569,5.986452005284438,5.978885764901122,5.978885764901122,5.968707559985366,5.961005339623274,5.953243334287785,5.8971538676367405,5.883322388488279,5.802118375377063,5.783825182329737,5.7430031878094825,5.733341276897746,5.730099782973574,5.726847747587197,5.69035945432406,5.69035945432406,5.683579767338681,5.676753802268282,5.655991810819852,5.648974238161206,5.648974238161206,5.645446897643238,5.631211781821365,5.627621113690637,5.616771097666572,5.605802066295998,5.58724865840025,5.583496308781699,5.568344503761097,5.564520407322694,5.564520407322694,5.54907608489522,5.53338948872752,5.521460917862246,5.521460917862246,5.517452896464707,5.5134287461649825,5.5093883366279774,5.501258210544727,5.472270673671475,5.472270673671475,5.4638318050256105,5.459585514144159,5.459585514144159,5.442417710521793,5.43372200355424,5.429345628954441,5.402677381872279,5.3981627015177525,5.3706380281276624,5.356586274672012,5.351858133476067,5.351858133476067,5.3230099791384085,5.303304908059076,5.278114659230517,5.2574953720277815,5.25227342804663,5.241747015059643,5.236441962829949,5.214935757608986,5.214935757608986,5.198497031265826,5.19295685089021,5.1647859739235145,5.1647859739235145,5.147494476813453,5.1298987149230735,5.111987788356544,5.10594547390058,5.099866427824199,5.093750200806762,5.081404364984463,5.081404364984463,5.081404364984463,5.062595033026967,5.043425116919247,5.043425116919247,5.0369526024136295,5.0369526024136295,5.0369526024136295,5.030437921392435,5.0238805208462765,5.017279836814924,5.0106352940962555,5.003946305945459,5.003946305945459,4.990432586778736,4.983606621708336,4.983606621708336,4.9344739331306915,4.912654885736052,4.90527477843843,4.897839799950911,4.890349128221754,4.875197323201151,4.844187086458591,4.820281565605037,4.795790545596741,4.762173934797756,4.727387818712341,4.709530201312334,4.700480365792417,4.700480365792417,4.6913478822291435,4.6913478822291435,4.68213122712422,4.68213122712422,4.672828834461906,4.663439094112067,4.6443908991413725,4.6443908991413725,4.624972813284271,4.605170185988092,4.59511985013459,4.574710978503383,4.574710978503383,4.564348191467836,4.564348191467836,4.564348191467836,4.553876891600541,4.553876891600541,4.5217885770490405,4.477336814478207,4.454347296253507,4.442651256490317,4.418840607796598,4.406719247264253,4.394449154672439,4.382026634673881,4.3694478524670215,4.356708826689592,4.343805421853684,4.343805421853684,4.30406509320417,4.290459441148391,4.2626798770413155,4.248495242049359,4.219507705176107,4.219507705176107,4.204692619390966,4.189654742026425,4.174387269895637,4.174387269895637,4.1588830833596715,4.1588830833596715,4.143134726391533,4.127134385045092,4.127134385045092,4.0943445622221,4.04305126783455,4.04305126783455,4.04305126783455,4.04305126783455,3.970291913552122,3.9512437185814275,3.9512437185814275,3.9512437185814275,3.9318256327243257,3.912023005428146,3.8918202981106265,3.871201010907891,3.871201010907891,3.8501476017100584,3.8066624897703196,3.784189633918261,3.7612001156935624,3.7612001156935624,3.7376696182833684,3.713572066704308,3.713572066704308,3.713572066704308,3.6635616461296463,3.6635616461296463,3.6635616461296463,3.58351893845611,3.5553480614894135,3.5553480614894135,3.4965075614664802,3.4965075614664802,3.4657359027997265,3.4657359027997265,3.4339872044851463,3.367295829986474,3.367295829986474,3.367295829986474,3.367295829986474,3.367295829986474,3.332204510175204,3.332204510175204,3.295836866004329,3.295836866004329,3.295836866004329,3.295836866004329,3.2188758248682006,3.2188758248682006,3.2188758248682006,3.1354942159291497,3.1354942159291497,3.1354942159291497,2.995732273553991,2.9444389791664403,2.9444389791664403,2.8903717578961645,2.8903717578961645,2.833213344056216,2.833213344056216,2.772588722239781,2.6390573296152584,2.5649493574615367,2.5649493574615367,2.4849066497880004,2.3978952727983707,2.3978952727983707,2.1972245773362196,2.1972245773362196,2.1972245773362196,1.3862943611198906,1.0986122886681098],\"xaxis\":\"x\",\"yaxis\":\"y\",\"type\":\"histogram\"}],                        {\"template\":{\"data\":{\"barpolar\":[{\"marker\":{\"line\":{\"color\":\"rgb(17,17,17)\",\"width\":0.5},\"pattern\":{\"fillmode\":\"overlay\",\"size\":10,\"solidity\":0.2}},\"type\":\"barpolar\"}],\"bar\":[{\"error_x\":{\"color\":\"#f2f5fa\"},\"error_y\":{\"color\":\"#f2f5fa\"},\"marker\":{\"line\":{\"color\":\"rgb(17,17,17)\",\"width\":0.5},\"pattern\":{\"fillmode\":\"overlay\",\"size\":10,\"solidity\":0.2}},\"type\":\"bar\"}],\"carpet\":[{\"aaxis\":{\"endlinecolor\":\"#A2B1C6\",\"gridcolor\":\"#506784\",\"linecolor\":\"#506784\",\"minorgridcolor\":\"#506784\",\"startlinecolor\":\"#A2B1C6\"},\"baxis\":{\"endlinecolor\":\"#A2B1C6\",\"gridcolor\":\"#506784\",\"linecolor\":\"#506784\",\"minorgridcolor\":\"#506784\",\"startlinecolor\":\"#A2B1C6\"},\"type\":\"carpet\"}],\"choropleth\":[{\"colorbar\":{\"outlinewidth\":0,\"ticks\":\"\"},\"type\":\"choropleth\"}],\"contourcarpet\":[{\"colorbar\":{\"outlinewidth\":0,\"ticks\":\"\"},\"type\":\"contourcarpet\"}],\"contour\":[{\"colorbar\":{\"outlinewidth\":0,\"ticks\":\"\"},\"colorscale\":[[0.0,\"#0d0887\"],[0.1111111111111111,\"#46039f\"],[0.2222222222222222,\"#7201a8\"],[0.3333333333333333,\"#9c179e\"],[0.4444444444444444,\"#bd3786\"],[0.5555555555555556,\"#d8576b\"],[0.6666666666666666,\"#ed7953\"],[0.7777777777777778,\"#fb9f3a\"],[0.8888888888888888,\"#fdca26\"],[1.0,\"#f0f921\"]],\"type\":\"contour\"}],\"heatmapgl\":[{\"colorbar\":{\"outlinewidth\":0,\"ticks\":\"\"},\"colorscale\":[[0.0,\"#0d0887\"],[0.1111111111111111,\"#46039f\"],[0.2222222222222222,\"#7201a8\"],[0.3333333333333333,\"#9c179e\"],[0.4444444444444444,\"#bd3786\"],[0.5555555555555556,\"#d8576b\"],[0.6666666666666666,\"#ed7953\"],[0.7777777777777778,\"#fb9f3a\"],[0.8888888888888888,\"#fdca26\"],[1.0,\"#f0f921\"]],\"type\":\"heatmapgl\"}],\"heatmap\":[{\"colorbar\":{\"outlinewidth\":0,\"ticks\":\"\"},\"colorscale\":[[0.0,\"#0d0887\"],[0.1111111111111111,\"#46039f\"],[0.2222222222222222,\"#7201a8\"],[0.3333333333333333,\"#9c179e\"],[0.4444444444444444,\"#bd3786\"],[0.5555555555555556,\"#d8576b\"],[0.6666666666666666,\"#ed7953\"],[0.7777777777777778,\"#fb9f3a\"],[0.8888888888888888,\"#fdca26\"],[1.0,\"#f0f921\"]],\"type\":\"heatmap\"}],\"histogram2dcontour\":[{\"colorbar\":{\"outlinewidth\":0,\"ticks\":\"\"},\"colorscale\":[[0.0,\"#0d0887\"],[0.1111111111111111,\"#46039f\"],[0.2222222222222222,\"#7201a8\"],[0.3333333333333333,\"#9c179e\"],[0.4444444444444444,\"#bd3786\"],[0.5555555555555556,\"#d8576b\"],[0.6666666666666666,\"#ed7953\"],[0.7777777777777778,\"#fb9f3a\"],[0.8888888888888888,\"#fdca26\"],[1.0,\"#f0f921\"]],\"type\":\"histogram2dcontour\"}],\"histogram2d\":[{\"colorbar\":{\"outlinewidth\":0,\"ticks\":\"\"},\"colorscale\":[[0.0,\"#0d0887\"],[0.1111111111111111,\"#46039f\"],[0.2222222222222222,\"#7201a8\"],[0.3333333333333333,\"#9c179e\"],[0.4444444444444444,\"#bd3786\"],[0.5555555555555556,\"#d8576b\"],[0.6666666666666666,\"#ed7953\"],[0.7777777777777778,\"#fb9f3a\"],[0.8888888888888888,\"#fdca26\"],[1.0,\"#f0f921\"]],\"type\":\"histogram2d\"}],\"histogram\":[{\"marker\":{\"pattern\":{\"fillmode\":\"overlay\",\"size\":10,\"solidity\":0.2}},\"type\":\"histogram\"}],\"mesh3d\":[{\"colorbar\":{\"outlinewidth\":0,\"ticks\":\"\"},\"type\":\"mesh3d\"}],\"parcoords\":[{\"line\":{\"colorbar\":{\"outlinewidth\":0,\"ticks\":\"\"}},\"type\":\"parcoords\"}],\"pie\":[{\"automargin\":true,\"type\":\"pie\"}],\"scatter3d\":[{\"line\":{\"colorbar\":{\"outlinewidth\":0,\"ticks\":\"\"}},\"marker\":{\"colorbar\":{\"outlinewidth\":0,\"ticks\":\"\"}},\"type\":\"scatter3d\"}],\"scattercarpet\":[{\"marker\":{\"colorbar\":{\"outlinewidth\":0,\"ticks\":\"\"}},\"type\":\"scattercarpet\"}],\"scattergeo\":[{\"marker\":{\"colorbar\":{\"outlinewidth\":0,\"ticks\":\"\"}},\"type\":\"scattergeo\"}],\"scattergl\":[{\"marker\":{\"line\":{\"color\":\"#283442\"}},\"type\":\"scattergl\"}],\"scattermapbox\":[{\"marker\":{\"colorbar\":{\"outlinewidth\":0,\"ticks\":\"\"}},\"type\":\"scattermapbox\"}],\"scatterpolargl\":[{\"marker\":{\"colorbar\":{\"outlinewidth\":0,\"ticks\":\"\"}},\"type\":\"scatterpolargl\"}],\"scatterpolar\":[{\"marker\":{\"colorbar\":{\"outlinewidth\":0,\"ticks\":\"\"}},\"type\":\"scatterpolar\"}],\"scatter\":[{\"marker\":{\"line\":{\"color\":\"#283442\"}},\"type\":\"scatter\"}],\"scatterternary\":[{\"marker\":{\"colorbar\":{\"outlinewidth\":0,\"ticks\":\"\"}},\"type\":\"scatterternary\"}],\"surface\":[{\"colorbar\":{\"outlinewidth\":0,\"ticks\":\"\"},\"colorscale\":[[0.0,\"#0d0887\"],[0.1111111111111111,\"#46039f\"],[0.2222222222222222,\"#7201a8\"],[0.3333333333333333,\"#9c179e\"],[0.4444444444444444,\"#bd3786\"],[0.5555555555555556,\"#d8576b\"],[0.6666666666666666,\"#ed7953\"],[0.7777777777777778,\"#fb9f3a\"],[0.8888888888888888,\"#fdca26\"],[1.0,\"#f0f921\"]],\"type\":\"surface\"}],\"table\":[{\"cells\":{\"fill\":{\"color\":\"#506784\"},\"line\":{\"color\":\"rgb(17,17,17)\"}},\"header\":{\"fill\":{\"color\":\"#2a3f5f\"},\"line\":{\"color\":\"rgb(17,17,17)\"}},\"type\":\"table\"}]},\"layout\":{\"annotationdefaults\":{\"arrowcolor\":\"#f2f5fa\",\"arrowhead\":0,\"arrowwidth\":1},\"autotypenumbers\":\"strict\",\"coloraxis\":{\"colorbar\":{\"outlinewidth\":0,\"ticks\":\"\"}},\"colorscale\":{\"diverging\":[[0,\"#8e0152\"],[0.1,\"#c51b7d\"],[0.2,\"#de77ae\"],[0.3,\"#f1b6da\"],[0.4,\"#fde0ef\"],[0.5,\"#f7f7f7\"],[0.6,\"#e6f5d0\"],[0.7,\"#b8e186\"],[0.8,\"#7fbc41\"],[0.9,\"#4d9221\"],[1,\"#276419\"]],\"sequential\":[[0.0,\"#0d0887\"],[0.1111111111111111,\"#46039f\"],[0.2222222222222222,\"#7201a8\"],[0.3333333333333333,\"#9c179e\"],[0.4444444444444444,\"#bd3786\"],[0.5555555555555556,\"#d8576b\"],[0.6666666666666666,\"#ed7953\"],[0.7777777777777778,\"#fb9f3a\"],[0.8888888888888888,\"#fdca26\"],[1.0,\"#f0f921\"]],\"sequentialminus\":[[0.0,\"#0d0887\"],[0.1111111111111111,\"#46039f\"],[0.2222222222222222,\"#7201a8\"],[0.3333333333333333,\"#9c179e\"],[0.4444444444444444,\"#bd3786\"],[0.5555555555555556,\"#d8576b\"],[0.6666666666666666,\"#ed7953\"],[0.7777777777777778,\"#fb9f3a\"],[0.8888888888888888,\"#fdca26\"],[1.0,\"#f0f921\"]]},\"colorway\":[\"#636efa\",\"#EF553B\",\"#00cc96\",\"#ab63fa\",\"#FFA15A\",\"#19d3f3\",\"#FF6692\",\"#B6E880\",\"#FF97FF\",\"#FECB52\"],\"font\":{\"color\":\"#f2f5fa\"},\"geo\":{\"bgcolor\":\"rgb(17,17,17)\",\"lakecolor\":\"rgb(17,17,17)\",\"landcolor\":\"rgb(17,17,17)\",\"showlakes\":true,\"showland\":true,\"subunitcolor\":\"#506784\"},\"hoverlabel\":{\"align\":\"left\"},\"hovermode\":\"closest\",\"mapbox\":{\"style\":\"dark\"},\"paper_bgcolor\":\"rgb(17,17,17)\",\"plot_bgcolor\":\"rgb(17,17,17)\",\"polar\":{\"angularaxis\":{\"gridcolor\":\"#506784\",\"linecolor\":\"#506784\",\"ticks\":\"\"},\"bgcolor\":\"rgb(17,17,17)\",\"radialaxis\":{\"gridcolor\":\"#506784\",\"linecolor\":\"#506784\",\"ticks\":\"\"}},\"scene\":{\"xaxis\":{\"backgroundcolor\":\"rgb(17,17,17)\",\"gridcolor\":\"#506784\",\"gridwidth\":2,\"linecolor\":\"#506784\",\"showbackground\":true,\"ticks\":\"\",\"zerolinecolor\":\"#C8D4E3\"},\"yaxis\":{\"backgroundcolor\":\"rgb(17,17,17)\",\"gridcolor\":\"#506784\",\"gridwidth\":2,\"linecolor\":\"#506784\",\"showbackground\":true,\"ticks\":\"\",\"zerolinecolor\":\"#C8D4E3\"},\"zaxis\":{\"backgroundcolor\":\"rgb(17,17,17)\",\"gridcolor\":\"#506784\",\"gridwidth\":2,\"linecolor\":\"#506784\",\"showbackground\":true,\"ticks\":\"\",\"zerolinecolor\":\"#C8D4E3\"}},\"shapedefaults\":{\"line\":{\"color\":\"#f2f5fa\"}},\"sliderdefaults\":{\"bgcolor\":\"#C8D4E3\",\"bordercolor\":\"rgb(17,17,17)\",\"borderwidth\":1,\"tickwidth\":0},\"ternary\":{\"aaxis\":{\"gridcolor\":\"#506784\",\"linecolor\":\"#506784\",\"ticks\":\"\"},\"baxis\":{\"gridcolor\":\"#506784\",\"linecolor\":\"#506784\",\"ticks\":\"\"},\"bgcolor\":\"rgb(17,17,17)\",\"caxis\":{\"gridcolor\":\"#506784\",\"linecolor\":\"#506784\",\"ticks\":\"\"}},\"title\":{\"x\":0.05},\"updatemenudefaults\":{\"bgcolor\":\"#506784\",\"borderwidth\":0},\"xaxis\":{\"automargin\":true,\"gridcolor\":\"#283442\",\"linecolor\":\"#506784\",\"ticks\":\"\",\"title\":{\"standoff\":15},\"zerolinecolor\":\"#283442\",\"zerolinewidth\":2},\"yaxis\":{\"automargin\":true,\"gridcolor\":\"#283442\",\"linecolor\":\"#506784\",\"ticks\":\"\",\"title\":{\"standoff\":15},\"zerolinecolor\":\"#283442\",\"zerolinewidth\":2}}},\"xaxis\":{\"anchor\":\"y\",\"domain\":[0.0,1.0],\"title\":{},\"tickvals\":[]},\"yaxis\":{\"anchor\":\"x\",\"domain\":[0.0,1.0],\"title\":{},\"showgrid\":false,\"tickvals\":[]},\"legend\":{\"tracegroupgap\":0},\"margin\":{\"t\":0,\"r\":0,\"b\":0,\"l\":0},\"barmode\":\"relative\",\"width\":200,\"height\":200},                        {\"responsive\": true}                    ).then(function(){\n",
       "                            \n",
       "var gd = document.getElementById('20709cbe-46e6-4d0d-94b0-8bf27e09e9c3');\n",
       "var x = new MutationObserver(function (mutations, observer) {{\n",
       "        var display = window.getComputedStyle(gd).display;\n",
       "        if (!display || display === 'none') {{\n",
       "            console.log([gd, 'removed!']);\n",
       "            Plotly.purge(gd);\n",
       "            observer.disconnect();\n",
       "        }}\n",
       "}});\n",
       "\n",
       "// Listen for the removal of the full notebook cells\n",
       "var notebookContainer = gd.closest('#notebook-container');\n",
       "if (notebookContainer) {{\n",
       "    x.observe(notebookContainer, {childList: true});\n",
       "}}\n",
       "\n",
       "// Listen for the clearing of the current output cell\n",
       "var outputEl = gd.closest('.output');\n",
       "if (outputEl) {{\n",
       "    x.observe(outputEl, {childList: true});\n",
       "}}\n",
       "\n",
       "                        })                };                });            </script>        </div>"
      ]
     },
     "metadata": {},
     "output_type": "display_data"
    }
   ],
   "source": [
    "# try hist\n",
    "counts, bins = np.histogram(df.log_views, bins = 30)\n",
    "print(counts)\n",
    "print(bins)\n",
    "\n",
    "df[\"log_views\"] = np.log(df.views)\n",
    "\n"
   ]
  },
  {
   "cell_type": "markdown",
   "id": "c5a9281b-7bc2-46f9-a220-d2d2c84e27c9",
   "metadata": {},
   "source": [
    "Plot"
   ]
  },
  {
   "cell_type": "code",
   "execution_count": 214,
   "id": "6afd2cf9-88ac-4608-aa03-2bb9c938074e",
   "metadata": {},
   "outputs": [
    {
     "data": {
      "text/html": [
       "\n",
       "        <iframe\n",
       "            width=\"100%\"\n",
       "            height=\"650\"\n",
       "            src=\"http://127.0.0.1:8050/\"\n",
       "            frameborder=\"0\"\n",
       "            allowfullscreen\n",
       "            \n",
       "        ></iframe>\n",
       "        "
      ],
      "text/plain": [
       "<IPython.lib.display.IFrame at 0x7f265a2f02b0>"
      ]
     },
     "metadata": {},
     "output_type": "display_data"
    }
   ],
   "source": [
    "app = JupyterDash(__name__)\n",
    "\n",
    "app.layout = html.Div([\n",
    "    \n",
    "    # Map background\n",
    "    html.Div(\n",
    "        style = {\n",
    "            \"width\": \"99%\",\n",
    "            \"height\": \"300px\"\n",
    "        },\n",
    "        children = [\n",
    "            dcc.Graph(id=\"map\")\n",
    "        ]),\n",
    "    \n",
    "    # sidebar right\n",
    "    html.Div(\n",
    "        id = \"sidebar\",\n",
    "        style = {\n",
    "            \"position\": \"fixed\",\n",
    "            \"width\": \"250px\",\n",
    "            \"right\": \"0px\",\n",
    "            \"top\": \"50px\",\n",
    "            \"marginRight\": \"30px\",\n",
    "        },\n",
    "        children = [            \n",
    "            html.Div(\n",
    "                id = \"hist-plot\",\n",
    "                style = {\n",
    "                    \"backgroundColor\": \"rgba(255,255,255, .3)\",\n",
    "                    \"padding\": \"15px 15px 15px 15px\",\n",
    "                    \"borderRadius\": \"5px\",\n",
    "                    \"marginTop\": \"15px\"\n",
    "                },\n",
    "                children = [\n",
    "                    dcc.Graph(id = \"histogram\"),\n",
    "                    dcc.RangeSlider(\n",
    "                            1,\n",
    "                            360,\n",
    "                            step=10,\n",
    "                            value=[1,360],\n",
    "                            marks={},\n",
    "                            id = \"slider\")\n",
    "                ]\n",
    "            )\n",
    "            \n",
    "            \n",
    "        ])\n",
    "    \n",
    "    #html.Div(\n",
    "    #    style = {\n",
    "    #        \"position\": \"fixed\",\n",
    "    #        \"width\": \"250px\",\n",
    "    #        \"backgroundColor\": \"rgba(255,255,255, .3)\",\n",
    "    #        \"right\": \"0px\",\n",
    "    #        \n",
    "    #)\n",
    "])\n",
    "\n",
    "@app.callback(\n",
    "    Output(component_id=\"map\", component_property=\"figure\"),\n",
    "    Output(component_id=\"histogram\", component_property=\"figure\"),\n",
    "    [Input(component_id='slider', component_property='value')]\n",
    ")\n",
    "\n",
    "def update_output_div(input_value):\n",
    "    \n",
    "    \n",
    "    # map rendering:\n",
    "    df_plot = df.iloc[0:360]\n",
    "    fig = px.scatter_mapbox(df_plot,\n",
    "                            lat = \"lat\",\n",
    "                            lon = \"lon\",\n",
    "                            color = \"views\",\n",
    "                            color_continuous_scale = \"Pinkyl_r\",\n",
    "                            size = \"views\",\n",
    "                            hover_name = \"title\",\n",
    "                            hover_data = [\"views\"],\n",
    "                            mapbox_style=\"carto-darkmatter\",\n",
    "                            zoom = 14)\n",
    "    fig.update_layout(margin = dict(t=0, r=0, b=0, l=0),\n",
    "                      height = 800,\n",
    "                      coloraxis_showscale=False)\n",
    "    fig[\"data\"][0][\"hovertemplate\"] = \"<b>%{hovertext}</b><br><br>Aufrufe in den letzten 30 Tagen: %{marker.color}<extra></extra>\"\n",
    "    \n",
    "    # histogram:\n",
    "    hist = px.histogram(\n",
    "        df,\n",
    "        x = \"log_views\",\n",
    "        nbins = 30,\n",
    "        template = \"plotly_dark\"\n",
    "    )\n",
    "    \n",
    "    hist.update_layout(\n",
    "        xaxis = dict(\n",
    "            title = None,\n",
    "            tickvals = []\n",
    "        ),\n",
    "        yaxis_showgrid = False,\n",
    "        yaxis_title = None,\n",
    "        yaxis_tickvals = [],\n",
    "        height = 150,\n",
    "        margin = dict(t=0, r=0, b=0, l=0),\n",
    "        plot_bgcolor = \"rgba(0,0,0,0)\",\n",
    "        paper_bgcolor = \"rgba(0,0,0,0)\"\n",
    "    )\n",
    "\n",
    "    hist.update_traces(marker_color = \"rgba(255,150,180, .7)\",\n",
    "                       hovertemplate = \"Artikel exp(%{x}) Mal besucht<br>%{y} Orte<extra></extra>\"\n",
    "                 )\n",
    "        \n",
    "    return(fig, hist)\n",
    "\n",
    "\n",
    "if __name__ == '__main__':\n",
    "    app.run_server(mode = \"inline\")\n"
   ]
  }
 ],
 "metadata": {
  "kernelspec": {
   "display_name": "Python 3 (ipykernel)",
   "language": "python",
   "name": "python3"
  },
  "language_info": {
   "codemirror_mode": {
    "name": "ipython",
    "version": 3
   },
   "file_extension": ".py",
   "mimetype": "text/x-python",
   "name": "python",
   "nbconvert_exporter": "python",
   "pygments_lexer": "ipython3",
   "version": "3.9.7"
  }
 },
 "nbformat": 4,
 "nbformat_minor": 5
}
